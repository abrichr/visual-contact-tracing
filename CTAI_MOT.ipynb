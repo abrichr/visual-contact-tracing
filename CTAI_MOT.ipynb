{
  "nbformat": 4,
  "nbformat_minor": 0,
  "metadata": {
    "colab": {
      "name": "CTAI MOT",
      "provenance": [],
      "collapsed_sections": [],
      "authorship_tag": "ABX9TyP9haDUpc1Oo1xpkiTXe7oF",
      "include_colab_link": true
    },
    "kernelspec": {
      "name": "python3",
      "display_name": "Python 3"
    },
    "accelerator": "GPU"
  },
  "cells": [
    {
      "cell_type": "markdown",
      "metadata": {
        "id": "view-in-github",
        "colab_type": "text"
      },
      "source": [
        "<a href=\"https://colab.research.google.com/github/abrichr/visual-contact-tracing/blob/master/CTAI_MOT.ipynb\" target=\"_parent\"><img src=\"https://colab.research.google.com/assets/colab-badge.svg\" alt=\"Open In Colab\"/></a>"
      ]
    },
    {
      "cell_type": "code",
      "metadata": {
        "id": "7ngo8t9TEL59",
        "colab_type": "code",
        "colab": {}
      },
      "source": [
        "%cd ~\n",
        "# https://github.com/Zhongdao/Towards-Realtime-MOT\n",
        "\n",
        "! git clone https://github.com/Zhongdao/Towards-Realtime-MOT\n",
        "%cd Towards-Realtime-MOT"
      ],
      "execution_count": null,
      "outputs": []
    },
    {
      "cell_type": "code",
      "metadata": {
        "id": "yurL7USIGXFM",
        "colab_type": "code",
        "colab": {}
      },
      "source": [
        "! pip install motmetrics lap cython_bbox youtube-dl imageio"
      ],
      "execution_count": null,
      "outputs": []
    },
    {
      "cell_type": "code",
      "metadata": {
        "id": "eVAcHq8QEQOO",
        "colab_type": "code",
        "colab": {}
      },
      "source": [
        "! youtube-dl https://www.youtube.com/watch?v=ptzKx9voJBY -o video.mp4"
      ],
      "execution_count": null,
      "outputs": []
    },
    {
      "cell_type": "code",
      "metadata": {
        "id": "0rLIzQMBFHIk",
        "colab_type": "code",
        "colab": {}
      },
      "source": [
        "def download_file_from_google_drive(file_id, file_name):\n",
        "  # download a file from the Google Drive link\n",
        "  !rm -f ./cookie\n",
        "  !curl -c ./cookie -s -L \"https://drive.google.com/uc?export=download&id=$file_id\" > /dev/null\n",
        "  confirm_text = !awk '/download/ {print $NF}' ./cookie\n",
        "  confirm_text = confirm_text[0]\n",
        "  !curl -Lb ./cookie \"https://drive.google.com/uc?export=download&confirm=$confirm_text&id=$file_id\" -o $file_name\n",
        "  with open(file_name, 'rb') as f:\n",
        "    data = f.read()\n",
        "    print('downloaded', len(data), 'bytes to', file_name)\n",
        "\n",
        "# From https://github.com/Zhongdao/Towards-Realtime-MOT/issues/99\n",
        "file_id_name_tups = [\n",
        "  #('1nlnuYfGNuHWZztQHXwVZSL_FvfE551pA', 'jde.1088x608.uncertainty.pt'),\n",
        "  ('1UKgkYrsV-59kYaHgWeJ70p5Mij3QWuFr', 'jde_864x480_uncertainty.pt'),\n",
        "  #('1sca65sHMnxY7YJ89FJ6Dg3S3yAjbLdMz', 'jde_576x320_uncertainty.pt'),\n",
        "]\n",
        "for file_id, file_name in file_id_name_tups:\n",
        "  download_file_from_google_drive(file_id, file_name)"
      ],
      "execution_count": null,
      "outputs": []
    },
    {
      "cell_type": "code",
      "metadata": {
        "id": "ppfZY272FQAT",
        "colab_type": "code",
        "colab": {}
      },
      "source": [
        "import imageio\n",
        "\n",
        "ffmpeg = imageio.plugins.ffmpeg                                                \n",
        "try:                                                                           \n",
        "    ffmpeg.download()                                                          \n",
        "except:                                                                        \n",
        "    pass                                                                       \n",
        "ffmpeg_exe = ffmpeg.get_exe()\n",
        "\n",
        "video_filename = 'video.mp4'\n",
        "video_filename_reenc = video_filename + '-reenc.avi'\n",
        "start_time_seconds = 0\n",
        "duration_seconds = 10\n",
        "\n",
        "cmd_parts = [\n",
        "  ffmpeg_exe,\n",
        "  '-i', video_filename,\n",
        "  '-vcodec', 'h264',\n",
        "  '-acodec', 'aac',\n",
        "  #'-c', 'copy',\n",
        "  '-strict',\n",
        "  '-2',\n",
        "  '-ss', str(start_time_seconds),\n",
        "  '-t', str(duration_seconds),\n",
        "  '-y',\n",
        "  '-loglevel', 'debug',\n",
        "  '-an',\n",
        "  # 640 = 1280 / 2\n",
        "  #'-vf',  'scale=640:-1',\n",
        "  '\"' + video_filename_reenc + '\"'\n",
        "]\n",
        "cmd = ' '.join(cmd_parts)\n",
        "print('Running cmd:\\n', cmd)                                \n",
        "! $cmd                                \n",
        "\n",
        "with open(video_filename_reenc, 'rb') as f:\n",
        "  data = f.read()\n",
        "  print('wrote', len(data), 'bytes')"
      ],
      "execution_count": null,
      "outputs": []
    },
    {
      "cell_type": "code",
      "metadata": {
        "id": "AUHw19aqGSwk",
        "colab_type": "code",
        "colab": {
          "base_uri": "https://localhost:8080/",
          "height": 1000
        },
        "outputId": "49d1436a-5b64-4a03-9c06-fa419073a9b9"
      },
      "source": [
        "!python demo.py --input-video $video_filename_reenc --cfg \"./cfg/yolov3_576x320.cfg\" --weights \"./jde_576x320_uncertainty.pt\"  --output-format video --output-root \"output\" \\\n",
        "   --min-box-area 100 --conf-thres 0.1 --iou-thres 0.1"
      ],
      "execution_count": null,
      "outputs": [
        {
          "output_type": "stream",
          "text": [
            "Namespace(cfg='./cfg/yolov3_576x320.cfg', conf_thres=0.1, input_video='video.mp4-reenc.avi', iou_thres=0.1, min_box_area=100.0, nms_thres=0.4, output_format='video', output_root='output', track_buffer=30, weights='./jde_576x320_uncertainty.pt')\n",
            "\n",
            "2020-07-20 22:01:22 [INFO]: Starting tracking...\n",
            "Lenth of the video: 300 frames\n",
            "2020-07-20 22:01:26 [INFO]: Processing frame 0 (100000.00 fps)\n",
            "/root/Towards-Realtime-MOT/tracker/multitracker.py:142: NumbaWarning: \n",
            "Compilation is falling back to object mode WITH looplifting enabled because Function \"tlbr_to_tlwh\" failed type inference due to: non-precise type pyobject\n",
            "[1] During: typing of argument at /root/Towards-Realtime-MOT/tracker/multitracker.py (145)\n",
            "\n",
            "File \"tracker/multitracker.py\", line 145:\n",
            "    def tlbr_to_tlwh(tlbr):\n",
            "        ret = np.asarray(tlbr).copy()\n",
            "        ^\n",
            "\n",
            "  @staticmethod\n",
            "/usr/local/lib/python3.6/dist-packages/numba/object_mode_passes.py:178: NumbaWarning: Function \"tlbr_to_tlwh\" was compiled in object mode without forceobj=True.\n",
            "\n",
            "File \"tracker/multitracker.py\", line 144:\n",
            "    @jit\n",
            "    def tlbr_to_tlwh(tlbr):\n",
            "    ^\n",
            "\n",
            "  state.func_ir.loc))\n",
            "/usr/local/lib/python3.6/dist-packages/numba/object_mode_passes.py:188: NumbaDeprecationWarning: \n",
            "Fall-back from the nopython compilation path to the object mode compilation path has been detected, this is deprecated behaviour.\n",
            "\n",
            "For more information visit http://numba.pydata.org/numba-doc/latest/reference/deprecation.html#deprecation-of-object-mode-fall-back-behaviour-when-using-jit\n",
            "\n",
            "File \"tracker/multitracker.py\", line 144:\n",
            "    @jit\n",
            "    def tlbr_to_tlwh(tlbr):\n",
            "    ^\n",
            "\n",
            "  state.func_ir.loc))\n",
            "/root/Towards-Realtime-MOT/tracker/multitracker.py:118: NumbaWarning: \n",
            "Compilation is falling back to object mode WITH looplifting enabled because Function \"tlbr\" failed type inference due to: non-precise type pyobject\n",
            "[1] During: typing of argument at /root/Towards-Realtime-MOT/tracker/multitracker.py (124)\n",
            "\n",
            "File \"tracker/multitracker.py\", line 124:\n",
            "    def tlbr(self):\n",
            "        <source elided>\n",
            "        \"\"\"\n",
            "        ret = self.tlwh.copy()\n",
            "        ^\n",
            "\n",
            "  @property\n",
            "/usr/local/lib/python3.6/dist-packages/numba/object_mode_passes.py:178: NumbaWarning: Function \"tlbr\" was compiled in object mode without forceobj=True.\n",
            "\n",
            "File \"tracker/multitracker.py\", line 120:\n",
            "    @jit\n",
            "    def tlbr(self):\n",
            "    ^\n",
            "\n",
            "  state.func_ir.loc))\n",
            "/usr/local/lib/python3.6/dist-packages/numba/object_mode_passes.py:188: NumbaDeprecationWarning: \n",
            "Fall-back from the nopython compilation path to the object mode compilation path has been detected, this is deprecated behaviour.\n",
            "\n",
            "For more information visit http://numba.pydata.org/numba-doc/latest/reference/deprecation.html#deprecation-of-object-mode-fall-back-behaviour-when-using-jit\n",
            "\n",
            "File \"tracker/multitracker.py\", line 120:\n",
            "    @jit\n",
            "    def tlbr(self):\n",
            "    ^\n",
            "\n",
            "  state.func_ir.loc))\n",
            "/root/Towards-Realtime-MOT/tracker/multitracker.py:105: NumbaWarning: \n",
            "Compilation is falling back to object mode WITH looplifting enabled because Function \"tlwh\" failed type inference due to: non-precise type pyobject\n",
            "[1] During: typing of argument at /root/Towards-Realtime-MOT/tracker/multitracker.py (111)\n",
            "\n",
            "File \"tracker/multitracker.py\", line 111:\n",
            "    def tlwh(self):\n",
            "        <source elided>\n",
            "        \"\"\"\n",
            "        if self.mean is None:\n",
            "        ^\n",
            "\n",
            "  @property\n",
            "/usr/local/lib/python3.6/dist-packages/numba/object_mode_passes.py:178: NumbaWarning: Function \"tlwh\" was compiled in object mode without forceobj=True.\n",
            "\n",
            "File \"tracker/multitracker.py\", line 107:\n",
            "    @jit\n",
            "    def tlwh(self):\n",
            "    ^\n",
            "\n",
            "  state.func_ir.loc))\n",
            "/usr/local/lib/python3.6/dist-packages/numba/object_mode_passes.py:188: NumbaDeprecationWarning: \n",
            "Fall-back from the nopython compilation path to the object mode compilation path has been detected, this is deprecated behaviour.\n",
            "\n",
            "For more information visit http://numba.pydata.org/numba-doc/latest/reference/deprecation.html#deprecation-of-object-mode-fall-back-behaviour-when-using-jit\n",
            "\n",
            "File \"tracker/multitracker.py\", line 107:\n",
            "    @jit\n",
            "    def tlwh(self):\n",
            "    ^\n",
            "\n",
            "  state.func_ir.loc))\n",
            "2020-07-20 22:01:29 [INFO]: Processing frame 20 (10.36 fps)\n",
            "2020-07-20 22:01:30 [INFO]: Processing frame 40 (12.42 fps)\n",
            "2020-07-20 22:01:32 [INFO]: Processing frame 60 (13.23 fps)\n",
            "2020-07-20 22:01:33 [INFO]: Processing frame 80 (13.88 fps)\n",
            "2020-07-20 22:01:35 [INFO]: Processing frame 100 (14.40 fps)\n",
            "2020-07-20 22:01:36 [INFO]: Processing frame 120 (14.61 fps)\n",
            "2020-07-20 22:01:37 [INFO]: Processing frame 140 (14.76 fps)\n",
            "2020-07-20 22:01:39 [INFO]: Processing frame 160 (14.91 fps)\n",
            "2020-07-20 22:01:40 [INFO]: Processing frame 180 (15.01 fps)\n",
            "2020-07-20 22:01:42 [INFO]: Processing frame 200 (15.11 fps)\n",
            "2020-07-20 22:01:43 [INFO]: Processing frame 220 (15.19 fps)\n",
            "2020-07-20 22:01:45 [INFO]: Processing frame 240 (15.28 fps)\n",
            "2020-07-20 22:01:46 [INFO]: Processing frame 260 (15.39 fps)\n",
            "2020-07-20 22:01:48 [INFO]: Processing frame 280 (15.47 fps)\n",
            "2020-07-20 22:01:49 [INFO]: save results to output/results.txt\n",
            "ffmpeg version 3.4.6-0ubuntu0.18.04.1 Copyright (c) 2000-2019 the FFmpeg developers\n",
            "  built with gcc 7 (Ubuntu 7.3.0-16ubuntu3)\n",
            "  configuration: --prefix=/usr --extra-version=0ubuntu0.18.04.1 --toolchain=hardened --libdir=/usr/lib/x86_64-linux-gnu --incdir=/usr/include/x86_64-linux-gnu --enable-gpl --disable-stripping --enable-avresample --enable-avisynth --enable-gnutls --enable-ladspa --enable-libass --enable-libbluray --enable-libbs2b --enable-libcaca --enable-libcdio --enable-libflite --enable-libfontconfig --enable-libfreetype --enable-libfribidi --enable-libgme --enable-libgsm --enable-libmp3lame --enable-libmysofa --enable-libopenjpeg --enable-libopenmpt --enable-libopus --enable-libpulse --enable-librubberband --enable-librsvg --enable-libshine --enable-libsnappy --enable-libsoxr --enable-libspeex --enable-libssh --enable-libtheora --enable-libtwolame --enable-libvorbis --enable-libvpx --enable-libwavpack --enable-libwebp --enable-libx265 --enable-libxml2 --enable-libxvid --enable-libzmq --enable-libzvbi --enable-omx --enable-openal --enable-opengl --enable-sdl2 --enable-libdc1394 --enable-libdrm --enable-libiec61883 --enable-chromaprint --enable-frei0r --enable-libopencv --enable-libx264 --enable-shared\n",
            "  libavutil      55. 78.100 / 55. 78.100\n",
            "  libavcodec     57.107.100 / 57.107.100\n",
            "  libavformat    57. 83.100 / 57. 83.100\n",
            "  libavdevice    57. 10.100 / 57. 10.100\n",
            "  libavfilter     6.107.100 /  6.107.100\n",
            "  libavresample   3.  7.  0 /  3.  7.  0\n",
            "  libswscale      4.  8.100 /  4.  8.100\n",
            "  libswresample   2.  9.100 /  2.  9.100\n",
            "  libpostproc    54.  7.100 / 54.  7.100\n",
            "Input #0, image2, from 'output/frame/%05d.jpg':\n",
            "  Duration: 00:00:12.00, start: 0.000000, bitrate: N/A\n",
            "    Stream #0:0: Video: mjpeg, yuvj420p(pc, bt470bg/unknown/unknown), 568x320 [SAR 1:1 DAR 71:40], 25 fps, 25 tbr, 25 tbn, 25 tbc\n",
            "File 'output/result.mp4' already exists. Overwrite ? [y/N] y\n",
            "Output #0, mp4, to 'output/result.mp4':\n",
            "  Metadata:\n",
            "    encoder         : Lavf57.83.100\n",
            "    Stream #0:0: Video: mjpeg (mp4v / 0x7634706D), yuvj420p(pc, bt470bg/unknown/unknown), 568x320 [SAR 1:1 DAR 71:40], q=2-31, 25 fps, 25 tbr, 12800 tbn, 25 tbc\n",
            "Stream mapping:\n",
            "  Stream #0:0 -> #0:0 (copy)\n",
            "Press [q] to stop, [?] for help\n",
            "frame=  300 fps=0.0 q=-1.0 Lsize=   28807kB time=00:00:11.96 bitrate=19731.4kbits/s speed= 452x    \n",
            "video:28805kB audio:0kB subtitle:0kB other streams:0kB global headers:0kB muxing overhead: 0.007353%\n"
          ],
          "name": "stdout"
        }
      ]
    },
    {
      "cell_type": "code",
      "metadata": {
        "id": "Iyneu-2fHvTc",
        "colab_type": "code",
        "colab": {
          "base_uri": "https://localhost:8080/",
          "height": 119
        },
        "outputId": "80d84fdc-06be-4b12-b5da-290e08023b72"
      },
      "source": [
        "!ls -alh output"
      ],
      "execution_count": null,
      "outputs": [
        {
          "output_type": "stream",
          "text": [
            "total 30M\n",
            "drwxr-xr-x  3 root root 4.0K Jul 20 21:52 .\n",
            "drwxr-xr-x 11 root root 4.0K Jul 20 21:51 ..\n",
            "drwxr-xr-x  2 root root  12K Jul 20 21:52 frame\n",
            "-rw-r--r--  1 root root  29M Jul 20 22:03 result.mp4\n",
            "-rw-r--r--  1 root root 1.6M Jul 20 22:01 results.txt\n"
          ],
          "name": "stdout"
        }
      ]
    },
    {
      "cell_type": "code",
      "metadata": {
        "id": "J4l2lP3rJNJB",
        "colab_type": "code",
        "colab": {
          "base_uri": "https://localhost:8080/",
          "height": 34
        },
        "outputId": "3d5d2aad-cfaa-4180-a0d2-2ec464f88524"
      },
      "source": [
        "from google.colab import files\n",
        "# doesn't open in QuickTime, but works in VLC\n",
        "files.download('./output/result.mp4')"
      ],
      "execution_count": null,
      "outputs": [
        {
          "output_type": "display_data",
          "data": {
            "application/javascript": [
              "\n",
              "    async function download(id, filename, size) {\n",
              "      if (!google.colab.kernel.accessAllowed) {\n",
              "        return;\n",
              "      }\n",
              "      const div = document.createElement('div');\n",
              "      const label = document.createElement('label');\n",
              "      label.textContent = `Downloading \"${filename}\": `;\n",
              "      div.appendChild(label);\n",
              "      const progress = document.createElement('progress');\n",
              "      progress.max = size;\n",
              "      div.appendChild(progress);\n",
              "      document.body.appendChild(div);\n",
              "\n",
              "      const buffers = [];\n",
              "      let downloaded = 0;\n",
              "\n",
              "      const channel = await google.colab.kernel.comms.open(id);\n",
              "      // Send a message to notify the kernel that we're ready.\n",
              "      channel.send({})\n",
              "\n",
              "      for await (const message of channel.messages) {\n",
              "        // Send a message to notify the kernel that we're ready.\n",
              "        channel.send({})\n",
              "        if (message.buffers) {\n",
              "          for (const buffer of message.buffers) {\n",
              "            buffers.push(buffer);\n",
              "            downloaded += buffer.byteLength;\n",
              "            progress.value = downloaded;\n",
              "          }\n",
              "        }\n",
              "      }\n",
              "      const blob = new Blob(buffers, {type: 'application/binary'});\n",
              "      const a = document.createElement('a');\n",
              "      a.href = window.URL.createObjectURL(blob);\n",
              "      a.download = filename;\n",
              "      div.appendChild(a);\n",
              "      a.click();\n",
              "      div.remove();\n",
              "    }\n",
              "  "
            ],
            "text/plain": [
              "<IPython.core.display.Javascript object>"
            ]
          },
          "metadata": {
            "tags": []
          }
        },
        {
          "output_type": "display_data",
          "data": {
            "application/javascript": [
              "download(\"download_e6978f5c-fd3d-4ed8-a0cb-42de8545b4f0\", \"result.mp4\", 29498572)"
            ],
            "text/plain": [
              "<IPython.core.display.Javascript object>"
            ]
          },
          "metadata": {
            "tags": []
          }
        }
      ]
    }
  ]
}