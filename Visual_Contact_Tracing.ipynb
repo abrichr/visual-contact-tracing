{
  "nbformat": 4,
  "nbformat_minor": 0,
  "metadata": {
    "colab": {
      "name": "Visual Contact Tracing",
      "provenance": [],
      "collapsed_sections": [],
      "toc_visible": true,
      "include_colab_link": true
    },
    "kernelspec": {
      "name": "python3",
      "display_name": "Python 3"
    },
    "accelerator": "GPU"
  },
  "cells": [
    {
      "cell_type": "markdown",
      "metadata": {
        "id": "view-in-github",
        "colab_type": "text"
      },
      "source": [
        "<a href=\"https://colab.research.google.com/github/abrichr/visual-contact-tracing/blob/master/Visual_Contact_Tracing.ipynb\" target=\"_parent\"><img src=\"https://colab.research.google.com/assets/colab-badge.svg\" alt=\"Open In Colab\"/></a>"
      ]
    },
    {
      "cell_type": "markdown",
      "metadata": {
        "id": "vM54r6jlKTII",
        "colab_type": "text"
      },
      "source": [
        "# Install detectron2"
      ]
    },
    {
      "cell_type": "code",
      "metadata": {
        "id": "9_FzH13EjseR",
        "colab_type": "code",
        "outputId": "3d3d5216-3274-4d9e-88d1-535f98f69139",
        "colab": {
          "base_uri": "https://localhost:8080/",
          "height": 649
        }
      },
      "source": [
        "# install dependencies: (use cu101 because colab has CUDA 10.1)\n",
        "!pip install -U torch==1.4 torchvision==0.5 -f https://download.pytorch.org/whl/cu101/torch_stable.html \n",
        "!pip install cython pyyaml==5.1\n",
        "!pip install -U 'git+https://github.com/cocodataset/cocoapi.git#subdirectory=PythonAPI'\n",
        "import torch, torchvision\n",
        "print(torch.__version__, torch.cuda.is_available())\n",
        "!gcc --version\n",
        "# opencv is pre-installed on colab"
      ],
      "execution_count": 1,
      "outputs": [
        {
          "output_type": "stream",
          "text": [
            "Looking in links: https://download.pytorch.org/whl/cu101/torch_stable.html\n",
            "Requirement already up-to-date: torch==1.4 in /usr/local/lib/python3.6/dist-packages (1.4.0)\n",
            "Requirement already up-to-date: torchvision==0.5 in /usr/local/lib/python3.6/dist-packages (0.5.0)\n",
            "Requirement already satisfied, skipping upgrade: six in /usr/local/lib/python3.6/dist-packages (from torchvision==0.5) (1.12.0)\n",
            "Requirement already satisfied, skipping upgrade: numpy in /usr/local/lib/python3.6/dist-packages (from torchvision==0.5) (1.18.3)\n",
            "Requirement already satisfied, skipping upgrade: pillow>=4.1.1 in /usr/local/lib/python3.6/dist-packages (from torchvision==0.5) (7.0.0)\n",
            "Requirement already satisfied: cython in /usr/local/lib/python3.6/dist-packages (0.29.17)\n",
            "Requirement already satisfied: pyyaml==5.1 in /usr/local/lib/python3.6/dist-packages (5.1)\n",
            "Collecting git+https://github.com/cocodataset/cocoapi.git#subdirectory=PythonAPI\n",
            "  Cloning https://github.com/cocodataset/cocoapi.git to /tmp/pip-req-build-n9722vpq\n",
            "  Running command git clone -q https://github.com/cocodataset/cocoapi.git /tmp/pip-req-build-n9722vpq\n",
            "Requirement already satisfied, skipping upgrade: setuptools>=18.0 in /usr/local/lib/python3.6/dist-packages (from pycocotools==2.0) (46.1.3)\n",
            "Requirement already satisfied, skipping upgrade: cython>=0.27.3 in /usr/local/lib/python3.6/dist-packages (from pycocotools==2.0) (0.29.17)\n",
            "Requirement already satisfied, skipping upgrade: matplotlib>=2.1.0 in /usr/local/lib/python3.6/dist-packages (from pycocotools==2.0) (3.2.1)\n",
            "Requirement already satisfied, skipping upgrade: numpy>=1.11 in /usr/local/lib/python3.6/dist-packages (from matplotlib>=2.1.0->pycocotools==2.0) (1.18.3)\n",
            "Requirement already satisfied, skipping upgrade: python-dateutil>=2.1 in /usr/local/lib/python3.6/dist-packages (from matplotlib>=2.1.0->pycocotools==2.0) (2.8.1)\n",
            "Requirement already satisfied, skipping upgrade: pyparsing!=2.0.4,!=2.1.2,!=2.1.6,>=2.0.1 in /usr/local/lib/python3.6/dist-packages (from matplotlib>=2.1.0->pycocotools==2.0) (2.4.7)\n",
            "Requirement already satisfied, skipping upgrade: kiwisolver>=1.0.1 in /usr/local/lib/python3.6/dist-packages (from matplotlib>=2.1.0->pycocotools==2.0) (1.2.0)\n",
            "Requirement already satisfied, skipping upgrade: cycler>=0.10 in /usr/local/lib/python3.6/dist-packages (from matplotlib>=2.1.0->pycocotools==2.0) (0.10.0)\n",
            "Requirement already satisfied, skipping upgrade: six>=1.5 in /usr/local/lib/python3.6/dist-packages (from python-dateutil>=2.1->matplotlib>=2.1.0->pycocotools==2.0) (1.12.0)\n",
            "Building wheels for collected packages: pycocotools\n",
            "  Building wheel for pycocotools (setup.py) ... \u001b[?25l\u001b[?25hdone\n",
            "  Created wheel for pycocotools: filename=pycocotools-2.0-cp36-cp36m-linux_x86_64.whl size=275268 sha256=6f1b225791ac8961eb973265ef37b1b4d51f9cbb7c73e2053d24fa6fa765a17e\n",
            "  Stored in directory: /tmp/pip-ephem-wheel-cache-j9opg8a5/wheels/90/51/41/646daf401c3bc408ff10de34ec76587a9b3ebfac8d21ca5c3a\n",
            "Successfully built pycocotools\n",
            "Installing collected packages: pycocotools\n",
            "  Found existing installation: pycocotools 2.0\n",
            "    Uninstalling pycocotools-2.0:\n",
            "      Successfully uninstalled pycocotools-2.0\n",
            "Successfully installed pycocotools-2.0\n",
            "1.4.0 True\n",
            "gcc (Ubuntu 7.5.0-3ubuntu1~18.04) 7.5.0\n",
            "Copyright (C) 2017 Free Software Foundation, Inc.\n",
            "This is free software; see the source for copying conditions.  There is NO\n",
            "warranty; not even for MERCHANTABILITY or FITNESS FOR A PARTICULAR PURPOSE.\n",
            "\n"
          ],
          "name": "stdout"
        }
      ]
    },
    {
      "cell_type": "code",
      "metadata": {
        "id": "b-i4hmGYk1dL",
        "colab_type": "code",
        "outputId": "ce9fea43-d630-40d2-8b6c-43bf957e6340",
        "colab": {
          "base_uri": "https://localhost:8080/",
          "height": 751
        }
      },
      "source": [
        "# install detectron2:\n",
        "!pip install detectron2 -f https://dl.fbaipublicfiles.com/detectron2/wheels/cu101/index.html"
      ],
      "execution_count": 2,
      "outputs": [
        {
          "output_type": "stream",
          "text": [
            "Looking in links: https://dl.fbaipublicfiles.com/detectron2/wheels/cu101/index.html\n",
            "Requirement already satisfied: detectron2 in /usr/local/lib/python3.6/dist-packages (0.1.1+cu101)\n",
            "Requirement already satisfied: cloudpickle in /usr/local/lib/python3.6/dist-packages (from detectron2) (1.3.0)\n",
            "Requirement already satisfied: yacs>=0.1.6 in /usr/local/lib/python3.6/dist-packages (from detectron2) (0.1.7)\n",
            "Requirement already satisfied: tqdm>4.29.0 in /usr/local/lib/python3.6/dist-packages (from detectron2) (4.38.0)\n",
            "Requirement already satisfied: future in /usr/local/lib/python3.6/dist-packages (from detectron2) (0.16.0)\n",
            "Requirement already satisfied: fvcore in /usr/local/lib/python3.6/dist-packages (from detectron2) (0.1.dev200502)\n",
            "Requirement already satisfied: Pillow in /usr/local/lib/python3.6/dist-packages (from detectron2) (7.0.0)\n",
            "Requirement already satisfied: matplotlib in /usr/local/lib/python3.6/dist-packages (from detectron2) (3.2.1)\n",
            "Requirement already satisfied: tabulate in /usr/local/lib/python3.6/dist-packages (from detectron2) (0.8.7)\n",
            "Requirement already satisfied: pydot in /usr/local/lib/python3.6/dist-packages (from detectron2) (1.3.0)\n",
            "Requirement already satisfied: termcolor>=1.1 in /usr/local/lib/python3.6/dist-packages (from detectron2) (1.1.0)\n",
            "Requirement already satisfied: tensorboard in /usr/local/lib/python3.6/dist-packages (from detectron2) (2.2.1)\n",
            "Requirement already satisfied: PyYAML in /usr/local/lib/python3.6/dist-packages (from yacs>=0.1.6->detectron2) (5.1)\n",
            "Requirement already satisfied: numpy in /usr/local/lib/python3.6/dist-packages (from fvcore->detectron2) (1.18.3)\n",
            "Requirement already satisfied: portalocker in /usr/local/lib/python3.6/dist-packages (from fvcore->detectron2) (1.7.0)\n",
            "Requirement already satisfied: kiwisolver>=1.0.1 in /usr/local/lib/python3.6/dist-packages (from matplotlib->detectron2) (1.2.0)\n",
            "Requirement already satisfied: cycler>=0.10 in /usr/local/lib/python3.6/dist-packages (from matplotlib->detectron2) (0.10.0)\n",
            "Requirement already satisfied: python-dateutil>=2.1 in /usr/local/lib/python3.6/dist-packages (from matplotlib->detectron2) (2.8.1)\n",
            "Requirement already satisfied: pyparsing!=2.0.4,!=2.1.2,!=2.1.6,>=2.0.1 in /usr/local/lib/python3.6/dist-packages (from matplotlib->detectron2) (2.4.7)\n",
            "Requirement already satisfied: markdown>=2.6.8 in /usr/local/lib/python3.6/dist-packages (from tensorboard->detectron2) (3.2.1)\n",
            "Requirement already satisfied: six>=1.10.0 in /usr/local/lib/python3.6/dist-packages (from tensorboard->detectron2) (1.12.0)\n",
            "Requirement already satisfied: grpcio>=1.24.3 in /usr/local/lib/python3.6/dist-packages (from tensorboard->detectron2) (1.28.1)\n",
            "Requirement already satisfied: absl-py>=0.4 in /usr/local/lib/python3.6/dist-packages (from tensorboard->detectron2) (0.9.0)\n",
            "Requirement already satisfied: google-auth<2,>=1.6.3 in /usr/local/lib/python3.6/dist-packages (from tensorboard->detectron2) (1.7.2)\n",
            "Requirement already satisfied: werkzeug>=0.11.15 in /usr/local/lib/python3.6/dist-packages (from tensorboard->detectron2) (1.0.1)\n",
            "Requirement already satisfied: setuptools>=41.0.0 in /usr/local/lib/python3.6/dist-packages (from tensorboard->detectron2) (46.1.3)\n",
            "Requirement already satisfied: tensorboard-plugin-wit>=1.6.0 in /usr/local/lib/python3.6/dist-packages (from tensorboard->detectron2) (1.6.0.post3)\n",
            "Requirement already satisfied: google-auth-oauthlib<0.5,>=0.4.1 in /usr/local/lib/python3.6/dist-packages (from tensorboard->detectron2) (0.4.1)\n",
            "Requirement already satisfied: wheel>=0.26; python_version >= \"3\" in /usr/local/lib/python3.6/dist-packages (from tensorboard->detectron2) (0.34.2)\n",
            "Requirement already satisfied: protobuf>=3.6.0 in /usr/local/lib/python3.6/dist-packages (from tensorboard->detectron2) (3.10.0)\n",
            "Requirement already satisfied: requests<3,>=2.21.0 in /usr/local/lib/python3.6/dist-packages (from tensorboard->detectron2) (2.23.0)\n",
            "Requirement already satisfied: pyasn1-modules>=0.2.1 in /usr/local/lib/python3.6/dist-packages (from google-auth<2,>=1.6.3->tensorboard->detectron2) (0.2.8)\n",
            "Requirement already satisfied: rsa<4.1,>=3.1.4 in /usr/local/lib/python3.6/dist-packages (from google-auth<2,>=1.6.3->tensorboard->detectron2) (4.0)\n",
            "Requirement already satisfied: cachetools<3.2,>=2.0.0 in /usr/local/lib/python3.6/dist-packages (from google-auth<2,>=1.6.3->tensorboard->detectron2) (3.1.1)\n",
            "Requirement already satisfied: requests-oauthlib>=0.7.0 in /usr/local/lib/python3.6/dist-packages (from google-auth-oauthlib<0.5,>=0.4.1->tensorboard->detectron2) (1.3.0)\n",
            "Requirement already satisfied: chardet<4,>=3.0.2 in /usr/local/lib/python3.6/dist-packages (from requests<3,>=2.21.0->tensorboard->detectron2) (3.0.4)\n",
            "Requirement already satisfied: certifi>=2017.4.17 in /usr/local/lib/python3.6/dist-packages (from requests<3,>=2.21.0->tensorboard->detectron2) (2020.4.5.1)\n",
            "Requirement already satisfied: idna<3,>=2.5 in /usr/local/lib/python3.6/dist-packages (from requests<3,>=2.21.0->tensorboard->detectron2) (2.9)\n",
            "Requirement already satisfied: urllib3!=1.25.0,!=1.25.1,<1.26,>=1.21.1 in /usr/local/lib/python3.6/dist-packages (from requests<3,>=2.21.0->tensorboard->detectron2) (1.24.3)\n",
            "Requirement already satisfied: pyasn1<0.5.0,>=0.4.6 in /usr/local/lib/python3.6/dist-packages (from pyasn1-modules>=0.2.1->google-auth<2,>=1.6.3->tensorboard->detectron2) (0.4.8)\n",
            "Requirement already satisfied: oauthlib>=3.0.0 in /usr/local/lib/python3.6/dist-packages (from requests-oauthlib>=0.7.0->google-auth-oauthlib<0.5,>=0.4.1->tensorboard->detectron2) (3.1.0)\n"
          ],
          "name": "stdout"
        }
      ]
    },
    {
      "cell_type": "code",
      "metadata": {
        "id": "ZyAvNCJMmvFF",
        "colab_type": "code",
        "colab": {}
      },
      "source": [
        "# You may need to restart your runtime prior to this, to let your installation take effect\n",
        "# Some basic setup:\n",
        "# Setup detectron2 logger\n",
        "import detectron2\n",
        "from detectron2.utils.logger import setup_logger\n",
        "setup_logger()\n",
        "\n",
        "# import some common libraries\n",
        "import numpy as np\n",
        "import cv2\n",
        "import random\n",
        "from google.colab.patches import cv2_imshow\n",
        "\n",
        "# import some common detectron2 utilities\n",
        "from detectron2 import model_zoo\n",
        "from detectron2.engine import DefaultPredictor\n",
        "from detectron2.config import get_cfg\n",
        "from detectron2.utils.visualizer import Visualizer\n",
        "from detectron2.data import MetadataCatalog"
      ],
      "execution_count": 0,
      "outputs": []
    },
    {
      "cell_type": "markdown",
      "metadata": {
        "id": "85G46fHoT2kd",
        "colab_type": "text"
      },
      "source": [
        "Upload a video"
      ]
    },
    {
      "cell_type": "code",
      "metadata": {
        "id": "pO2km6rXT10I",
        "colab_type": "code",
        "outputId": "9a45d47c-7241-4b60-dd1d-2a6a2bb58b01",
        "colab": {
          "base_uri": "https://localhost:8080/",
          "height": 54
        }
      },
      "source": [
        "'''\n",
        "from google.colab import files\n",
        "\n",
        "uploaded = files.upload()\n",
        "\n",
        "for fn in uploaded.keys():\n",
        "  print('User uploaded file \"{name}\" with length {length} bytes'.format(\n",
        "      name=fn, length=len(uploaded[fn])))\n",
        "'''"
      ],
      "execution_count": 4,
      "outputs": [
        {
          "output_type": "execute_result",
          "data": {
            "text/plain": [
              "'\\nfrom google.colab import files\\n\\nuploaded = files.upload()\\n\\nfor fn in uploaded.keys():\\n  print(\\'User uploaded file \"{name}\" with length {length} bytes\\'.format(\\n      name=fn, length=len(uploaded[fn])))\\n'"
            ]
          },
          "metadata": {
            "tags": []
          },
          "execution_count": 4
        }
      ]
    },
    {
      "cell_type": "markdown",
      "metadata": {
        "id": "ZsrAFRjpUsr4",
        "colab_type": "text"
      },
      "source": [
        "Or load from Google Drive"
      ]
    },
    {
      "cell_type": "code",
      "metadata": {
        "id": "uebmGrqTUwEC",
        "colab_type": "code",
        "outputId": "d8e6a2bb-a7a4-41fd-8bcd-7963af56a0fc",
        "colab": {
          "base_uri": "https://localhost:8080/",
          "height": 34
        }
      },
      "source": [
        "import requests\n",
        "\n",
        "def download_file_from_google_drive(id, destination):\n",
        "    URL = \"https://docs.google.com/uc?export=download\"\n",
        "\n",
        "    session = requests.Session()\n",
        "\n",
        "    response = session.get(URL, params = { 'id' : id }, stream = True)\n",
        "    token = get_confirm_token(response)\n",
        "\n",
        "    if token:\n",
        "        params = { 'id' : id, 'confirm' : token }\n",
        "        response = session.get(URL, params = params, stream = True)\n",
        "\n",
        "    save_response_content(response, destination)    \n",
        "\n",
        "def get_confirm_token(response):\n",
        "    for key, value in response.cookies.items():\n",
        "        if key.startswith('download_warning'):\n",
        "            return value\n",
        "\n",
        "    return None\n",
        "\n",
        "def save_response_content(response, destination):\n",
        "    CHUNK_SIZE = 32768\n",
        "\n",
        "    with open(destination, \"wb\") as f:\n",
        "        for chunk in response.iter_content(CHUNK_SIZE):\n",
        "            if chunk: # filter out keep-alive new chunks\n",
        "                f.write(chunk)\n",
        "\n",
        "file_id = '0Bzf1l8WmTwu0eUluQ2h1NWZQRjQ'\n",
        "video_filename = 'salsa_cpp_cam4.avi'\n",
        "download_file_from_google_drive(file_id, video_filename)\n",
        "with open(video_filename, 'rb') as f:\n",
        "  data = f.read()\n",
        "  print('downloaded', len(data), 'bytes to', video_filename)"
      ],
      "execution_count": 5,
      "outputs": [
        {
          "output_type": "stream",
          "text": [
            "downloaded 150146578 bytes to salsa_cpp_cam4.avi\n"
          ],
          "name": "stdout"
        }
      ]
    },
    {
      "cell_type": "markdown",
      "metadata": {
        "id": "h-eqWJ2UYAc6",
        "colab_type": "text"
      },
      "source": [
        "Re-encode"
      ]
    },
    {
      "cell_type": "code",
      "metadata": {
        "id": "gvcgfcI1YC5c",
        "colab_type": "code",
        "outputId": "91a87a8a-a45c-47bc-9fae-da1313465811",
        "colab": {
          "base_uri": "https://localhost:8080/",
          "height": 1000
        }
      },
      "source": [
        "import subprocess as sp\n",
        "\n",
        "import imageio\n",
        "                                                                    \n",
        "ffmpeg = imageio.plugins.ffmpeg                                                \n",
        "try:                                                                           \n",
        "    ffmpeg.download()                                                          \n",
        "except:                                                                        \n",
        "    pass                                                                       \n",
        "ffmpeg_exe = ffmpeg.get_exe()\n",
        "\n",
        "video_path = video_filename \n",
        "start_time_seconds = 1\n",
        "duration_seconds = 5\n",
        "video_filename_reenc = video_filename + '-reenc.avi'\n",
        "cmd_parts = [\n",
        "  ffmpeg_exe,\n",
        "  '-i', video_path,\n",
        "  '-vcodec', 'h264',\n",
        "  '-acodec', 'aac',\n",
        "  '-strict',\n",
        "  '-2',\n",
        "  '-ss', str(start_time_seconds),\n",
        "  '-t', str(duration_seconds),\n",
        "  '-y',\n",
        "  video_filename_reenc\n",
        "]\n",
        "print('Running cmd:\\n', ' '.join(cmd_parts))                                \n",
        "result = sp.run(                                                            \n",
        "    cmd_parts, stdout=sp.PIPE, stderr=sp.STDOUT, universal_newlines=True    \n",
        ")                                                                           \n",
        "print('Result:\\n', result.stdout)                                           \n",
        "\n",
        "with open(video_filename_reenc, 'rb') as f:\n",
        "  data = f.read()\n",
        "  print('wrote', len(data), 'bytes')"
      ],
      "execution_count": 6,
      "outputs": [
        {
          "output_type": "stream",
          "text": [
            "Running cmd:\n",
            " /root/.imageio/ffmpeg/ffmpeg-linux64-v3.3.1 -i salsa_cpp_cam4.avi -vcodec h264 -acodec aac -strict -2 -ss 1 -t 5 -y salsa_cpp_cam4.avi-reenc.avi\n",
            "Result:\n",
            " ffmpeg version N-86111-ga441aa90e8-static http://johnvansickle.com/ffmpeg/  Copyright (c) 2000-2017 the FFmpeg developers\n",
            "  built with gcc 5.4.1 (Debian 5.4.1-8) 20170304\n",
            "  configuration: --enable-gpl --enable-version3 --enable-static --disable-debug --disable-ffplay --disable-indev=sndio --disable-outdev=sndio --cc=gcc-5 --enable-fontconfig --enable-frei0r --enable-gnutls --enable-gray --enable-libass --enable-libfreetype --enable-libfribidi --enable-libmp3lame --enable-libopencore-amrnb --enable-libopencore-amrwb --enable-libopenjpeg --enable-libopus --enable-librtmp --enable-libsoxr --enable-libspeex --enable-libtheora --enable-libvidstab --enable-libvo-amrwbenc --enable-libvorbis --enable-libvpx --enable-libwebp --enable-libx264 --enable-libx265 --enable-libxvid --enable-libzimg\n",
            "  libavutil      55. 63.100 / 55. 63.100\n",
            "  libavcodec     57. 96.101 / 57. 96.101\n",
            "  libavformat    57. 72.101 / 57. 72.101\n",
            "  libavdevice    57.  7.100 / 57.  7.100\n",
            "  libavfilter     6. 89.101 /  6. 89.101\n",
            "  libswscale      4.  7.101 /  4.  7.101\n",
            "  libswresample   2.  8.100 /  2.  8.100\n",
            "  libpostproc    54.  6.100 / 54.  6.100\n",
            "Input #0, avi, from 'salsa_cpp_cam4.avi':\n",
            "  Metadata:\n",
            "    encoder         : MEncoder 1.1-4.8\n",
            "  Duration: 00:25:00.00, start: 0.000000, bitrate: 800 kb/s\n",
            "    Stream #0:0: Video: mpeg4 (Advanced Simple Profile) (FMP4 / 0x34504D46), yuv420p, 1024x768 [SAR 1:1 DAR 4:3], 797 kb/s, 15 fps, 15 tbr, 15 tbn, 15 tbc\n",
            "Stream mapping:\n",
            "  Stream #0:0 -> #0:0 (mpeg4 (native) -> h264 (libx264))\n",
            "Press [q] to stop, [?] for help\n",
            "[libx264 @ 0x47f9be0] using SAR=1/1\n",
            "[libx264 @ 0x47f9be0] using cpu capabilities: MMX2 SSE2Fast SSSE3 SSE4.2 AVX FMA3 AVX2 LZCNT BMI2\n",
            "[libx264 @ 0x47f9be0] profile High, level 3.1\n",
            "Output #0, avi, to 'salsa_cpp_cam4.avi-reenc.avi':\n",
            "  Metadata:\n",
            "    ISFT            : Lavf57.72.101\n",
            "    Stream #0:0: Video: h264 (libx264) (H264 / 0x34363248), yuv420p, 1024x768 [SAR 1:1 DAR 4:3], q=-1--1, 15 fps, 15 tbn, 15 tbc\n",
            "    Metadata:\n",
            "      encoder         : Lavc57.96.101 libx264\n",
            "    Side data:\n",
            "      cpb: bitrate max/min/avg: 0/0/0 buffer size: 0 vbv_delay: -1\n",
            "frame=   54 fps=0.0 q=27.0 size=     149kB time=00:00:00.33 bitrate=3651.8kbits/s speed=0.631x    \n",
            "frame=   72 fps= 66 q=27.0 size=     257kB time=00:00:01.53 bitrate=1375.4kbits/s speed=1.41x    \n",
            "frame=   75 fps= 29 q=-1.0 Lsize=     703kB time=00:00:04.86 bitrate=1182.9kbits/s speed=1.85x    \n",
            "video:695kB audio:0kB subtitle:0kB other streams:0kB global headers:0kB muxing overhead: 1.067812%\n",
            "[libx264 @ 0x47f9be0] frame I:1     Avg QP:18.85  size:105784\n",
            "[libx264 @ 0x47f9be0] frame P:37    Avg QP:21.03  size: 13980\n",
            "[libx264 @ 0x47f9be0] frame B:37    Avg QP:26.61  size:  2405\n",
            "[libx264 @ 0x47f9be0] consecutive B-frames: 25.3%  5.3% 64.0%  5.3%\n",
            "[libx264 @ 0x47f9be0] mb I  I16..4:  2.7% 90.8%  6.5%\n",
            "[libx264 @ 0x47f9be0] mb P  I16..4:  0.3%  2.7%  0.1%  P16..4: 27.2% 10.9%  8.8%  0.0%  0.0%    skip:50.0%\n",
            "[libx264 @ 0x47f9be0] mb B  I16..4:  0.0%  0.2%  0.0%  B16..8: 19.4%  1.7%  0.4%  direct: 1.1%  skip:77.1%  L0:43.2% L1:29.4% BI:27.5%\n",
            "[libx264 @ 0x47f9be0] 8x8 transform intra:88.6% inter:83.7%\n",
            "[libx264 @ 0x47f9be0] coded y,uvDC,uvAC intra: 86.3% 90.6% 53.0% inter: 12.6% 10.3% 2.4%\n",
            "[libx264 @ 0x47f9be0] i16 v,h,dc,p: 32% 16% 38% 14%\n",
            "[libx264 @ 0x47f9be0] i8 v,h,dc,ddl,ddr,vr,hd,vl,hu: 20% 13% 23%  7%  6%  6%  8%  9%  9%\n",
            "[libx264 @ 0x47f9be0] i4 v,h,dc,ddl,ddr,vr,hd,vl,hu: 26% 14% 10%  6%  9% 10% 10%  8%  6%\n",
            "[libx264 @ 0x47f9be0] i8c dc,h,v,p: 45% 20% 26%  9%\n",
            "[libx264 @ 0x47f9be0] Weighted P-Frames: Y:0.0% UV:0.0%\n",
            "[libx264 @ 0x47f9be0] ref P L0: 64.9% 21.1% 10.7%  3.3%\n",
            "[libx264 @ 0x47f9be0] ref B L0: 87.0% 11.4%  1.6%\n",
            "[libx264 @ 0x47f9be0] ref B L1: 98.8%  1.2%\n",
            "[libx264 @ 0x47f9be0] kb/s:1139.23\n",
            "\n",
            "wrote 719620 bytes\n"
          ],
          "name": "stdout"
        }
      ]
    },
    {
      "cell_type": "code",
      "metadata": {
        "id": "FSU6x9MfwIkC",
        "colab_type": "code",
        "outputId": "2608b5a7-9613-45c0-d413-72cf9ae8620c",
        "colab": {
          "base_uri": "https://localhost:8080/",
          "height": 34
        }
      },
      "source": [
        "!git clone https://github.com/facebookresearch/detectron2"
      ],
      "execution_count": 7,
      "outputs": [
        {
          "output_type": "stream",
          "text": [
            "fatal: destination path 'detectron2' already exists and is not an empty directory.\n"
          ],
          "name": "stdout"
        }
      ]
    },
    {
      "cell_type": "code",
      "metadata": {
        "id": "7lX3kQNvr8iZ",
        "colab_type": "code",
        "outputId": "b7aa0a1f-40eb-4d99-9b66-3800e818ac86",
        "colab": {
          "base_uri": "https://localhost:8080/",
          "height": 224
        }
      },
      "source": [
        "import argparse\n",
        "import glob\n",
        "import multiprocessing as mp\n",
        "import os\n",
        "import time\n",
        "import cv2\n",
        "import tqdm\n",
        "\n",
        "from detectron2.config import get_cfg\n",
        "from detectron2.data.detection_utils import read_image\n",
        "from detectron2.utils.logger import setup_logger\n",
        "from detectron2.utils.visualizer import ColorMode\n",
        "from detectron2.utils.video_visualizer import VideoVisualizer\n",
        "\n",
        "\n",
        "# panoptic segmentation\n",
        "DEFAULT_CONFIG = 'detectron2/configs/COCO-PanopticSegmentation/panoptic_fpn_R_101_3x.yaml'\n",
        "DEFAULT_OPTS = ['MODEL.WEIGHTS', 'detectron2://COCO-PanopticSegmentation/panoptic_fpn_R_101_3x/139514519/model_final_cafdb1.pkl']\n",
        "DEFAULT_CONF_THRESH = 0.6\n",
        "\n",
        "# keypoint detection\n",
        "DEFAULT_CONFIG = 'detectron2/configs/COCO-Keypoints/keypoint_rcnn_R_50_FPN_3x.yaml'\n",
        "DEFAULT_CONF_THRESH = 0.7\n",
        "DEFAULT_OPTS = [\n",
        "  'MODEL.WEIGHTS',\n",
        "  model_zoo.get_checkpoint_url(\"COCO-Keypoints/keypoint_rcnn_R_50_FPN_3x.yaml\")\n",
        "]\n",
        "\n",
        "default_args = [DEFAULT_CONFIG, DEFAULT_OPTS, DEFAULT_CONF_THRESH]\n",
        "\n",
        "def setup_cfg(config=DEFAULT_CONFIG, opts=DEFAULT_OPTS, conf_thresh=DEFAULT_CONF_THRESH):\n",
        "    # load config from file and arguments\n",
        "    cfg = get_cfg()\n",
        "    cfg.merge_from_file(config)\n",
        "    cfg.merge_from_list(opts)\n",
        "    # Set score_threshold for builtin models\n",
        "    cfg.MODEL.RETINANET.SCORE_THRESH_TEST = conf_thresh\n",
        "    cfg.MODEL.ROI_HEADS.SCORE_THRESH_TEST = conf_thresh\n",
        "    cfg.MODEL.PANOPTIC_FPN.COMBINE.INSTANCES_CONFIDENCE_THRESH = conf_thresh\n",
        "    cfg.freeze()\n",
        "    return cfg\n",
        "\n",
        "mp.set_start_method(\"spawn\", force=True)\n",
        "setup_logger(name=\"fvcore\")\n",
        "logger = setup_logger()\n",
        "logger.info(\"Arguments: \" + str(default_args))\n",
        "\n",
        "cfg = setup_cfg()\n",
        "predictor = DefaultPredictor(cfg)\n",
        "\n",
        "video_input = video_filename_reenc\n",
        "print('video_input:', video_input)\n",
        "output = f'{video_filename_reenc}-out.mp4'\n",
        "print('output:', output)\n",
        "\n",
        "video = cv2.VideoCapture(video_input)\n",
        "print('video:', video)\n",
        "width = int(video.get(cv2.CAP_PROP_FRAME_WIDTH))\n",
        "height = int(video.get(cv2.CAP_PROP_FRAME_HEIGHT))\n",
        "frames_per_second = video.get(cv2.CAP_PROP_FPS)\n",
        "num_frames = int(video.get(cv2.CAP_PROP_FRAME_COUNT))\n",
        "basename = os.path.basename(video_input)\n",
        "\n",
        "output_fname = './' + output\n",
        "print('output_fname:', output_fname)\n",
        "#assert not os.path.isfile(output_fname), output_fname\n",
        "output_file = cv2.VideoWriter(\n",
        "    filename=output_fname,\n",
        "    # some installation of opencv may not support x264 (due to its license),\n",
        "    # you can try other format (e.g. MPEG)\n",
        "    #fourcc=cv2.VideoWriter_fourcc(*\"x264\"),\n",
        "    #fourcc=cv2.VideoWriter_fourcc(*\"MPEG\"),\n",
        "    fourcc=cv2.VideoWriter_fourcc(*'mp4v'),\n",
        "    fps=float(frames_per_second),\n",
        "    frameSize=(width, height),\n",
        "    isColor=True,\n",
        ")\n",
        "print('output_file:', output_file)\n",
        "assert os.path.isfile(video_input)\n",
        "\n",
        "metadata = MetadataCatalog.get(\n",
        "    cfg.DATASETS.TEST[0] if len(cfg.DATASETS.TEST) else \"__unused\"\n",
        ")\n",
        "cpu_device = torch.device(\"cpu\")\n",
        "instance_mode = ColorMode.IMAGE\n",
        "video_visualizer = VideoVisualizer(metadata, instance_mode)\n",
        "\n",
        "def process_predictions(frame, predictions):\n",
        "    frame = cv2.cvtColor(frame, cv2.COLOR_RGB2BGR)\n",
        "    if \"panoptic_seg\" in predictions:\n",
        "        panoptic_seg, segments_info = predictions[\"panoptic_seg\"]\n",
        "        vis_frame = video_visualizer.draw_panoptic_seg_predictions(\n",
        "            frame, panoptic_seg.to(cpu_device), segments_info\n",
        "        )\n",
        "    elif \"instances\" in predictions:\n",
        "        predictions = predictions[\"instances\"].to(cpu_device)\n",
        "        vis_frame = video_visualizer.draw_instance_predictions(frame, predictions)\n",
        "    elif \"sem_seg\" in predictions:\n",
        "        vis_frame = video_visualizer.draw_sem_seg(\n",
        "            frame, predictions[\"sem_seg\"].argmax(dim=0).to(cpu_device)\n",
        "        )\n",
        "\n",
        "    # Converts Matplotlib RGB format to OpenCV BGR format\n",
        "    vis_frame = cv2.cvtColor(vis_frame.get_image(), cv2.COLOR_RGB2BGR)\n",
        "    return vis_frame\n",
        "\n",
        "def _frame_from_video(video):\n",
        "    while video.isOpened():\n",
        "        success, frame = video.read()\n",
        "        if success:\n",
        "            yield frame\n",
        "        else:\n",
        "            break\n",
        "\n",
        "frame_gen = _frame_from_video(video)\n",
        "from google.colab.patches import cv2_imshow\n",
        "for frame in tqdm.tqdm(frame_gen, total=num_frames):\n",
        "    predictions = predictor(frame)\n",
        "    # XXX TODO: track positions across frames\n",
        "    vis_frame = process_predictions(frame, predictions)\n",
        "    #cv2_imshow(vis_frame)\n",
        "    output_file.write(vis_frame)\n",
        "\n",
        "\n",
        "video.release()\n",
        "output_file.release()\n",
        "print('Done.')\n",
        "\n",
        "with open(output_fname, 'rb') as f:\n",
        "  print('wrote', len(f.read()), 'bytes')\n"
      ],
      "execution_count": 12,
      "outputs": [
        {
          "output_type": "stream",
          "text": [
            "\u001b[32m[05/02 03:29:02 detectron2]: \u001b[0mArguments: ['detectron2/configs/COCO-Keypoints/keypoint_rcnn_R_50_FPN_3x.yaml', ['MODEL.WEIGHTS', 'https://dl.fbaipublicfiles.com/detectron2/COCO-Keypoints/keypoint_rcnn_R_50_FPN_3x/137849621/model_final_a6e10b.pkl'], 0.7]\n",
            "\u001b[32m[05/02 03:29:03 fvcore.common.checkpoint]: \u001b[0mLoading checkpoint from https://dl.fbaipublicfiles.com/detectron2/COCO-Keypoints/keypoint_rcnn_R_50_FPN_3x/137849621/model_final_a6e10b.pkl\n",
            "\u001b[32m[05/02 03:29:03 fvcore.common.checkpoint]: \u001b[0mReading a file from 'Detectron2 Model Zoo'\n"
          ],
          "name": "stdout"
        },
        {
          "output_type": "stream",
          "text": [
            "\r  0%|          | 0/75 [00:00<?, ?it/s]"
          ],
          "name": "stderr"
        },
        {
          "output_type": "stream",
          "text": [
            "video_input: salsa_cpp_cam4.avi-reenc.avi\n",
            "output: salsa_cpp_cam4.avi-reenc.avi-out.mp4\n",
            "video: <VideoCapture 0x7fe8d5da0af0>\n",
            "output_fname: ./salsa_cpp_cam4.avi-reenc.avi-out.mp4\n",
            "output_file: <VideoWriter 0x7fe8d5da0210>\n"
          ],
          "name": "stdout"
        },
        {
          "output_type": "stream",
          "text": [
            "100%|██████████| 75/75 [00:38<00:00,  1.93it/s]"
          ],
          "name": "stderr"
        },
        {
          "output_type": "stream",
          "text": [
            "Done.\n",
            "wrote 4849365 bytes\n"
          ],
          "name": "stdout"
        },
        {
          "output_type": "stream",
          "text": [
            "\n"
          ],
          "name": "stderr"
        }
      ]
    },
    {
      "cell_type": "code",
      "metadata": {
        "id": "yFGJoVm7x5Hd",
        "colab_type": "code",
        "colab": {}
      },
      "source": [
        "# Download the results\n",
        "from google.colab import files\n",
        "files.download(output)"
      ],
      "execution_count": 0,
      "outputs": []
    },
    {
      "cell_type": "markdown",
      "metadata": {
        "id": "jRKsYoVJVCF1",
        "colab_type": "text"
      },
      "source": [
        "Limitations\n",
        "- 2D results in false positives (due to lack of depth information) and false negatives (due to occlusion)"
      ]
    }
  ]
}